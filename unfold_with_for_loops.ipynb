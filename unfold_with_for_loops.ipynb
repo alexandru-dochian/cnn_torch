{
 "cells": [
  {
   "cell_type": "markdown",
   "metadata": {},
   "source": [
    "### Custom unfold with for loops"
   ]
  },
  {
   "cell_type": "code",
   "execution_count": 3,
   "metadata": {},
   "outputs": [],
   "source": [
    "import torch\n",
    "from typing import Tuple\n",
    "\n",
    "\n",
    "def compute_output_shape(\n",
    "    dimension: int, kernel_size: int, padding: int, stride: int\n",
    ") -> int:\n",
    "    return (dimension + 2 * padding - kernel_size) // stride + 1\n",
    "\n",
    "\n",
    "def custom_unfold(\n",
    "    input: torch.Tensor, kernel_size: Tuple[int, int], stride: int, padding: int\n",
    ") -> torch.Tensor:\n",
    "    b, c, h, w = input.shape\n",
    "    k_h, k_w = kernel_size\n",
    "\n",
    "    out_h = compute_output_shape(h, k_h, padding, stride)\n",
    "    out_w = compute_output_shape(w, k_w, padding, stride)\n",
    "\n",
    "    unfolded_matrix = torch.zeros(b, c * k_h * k_w, out_h * out_w)\n",
    "\n",
    "    for batch in range(b):\n",
    "        for channel in range(c):\n",
    "            for i_h in range(0, h - k_h + 1, stride):\n",
    "                for i_w in range(0, w - k_w + 1, stride):\n",
    "                    patch = input[batch, channel, i_h : i_h + k_h, i_w : i_w + k_w]\n",
    "                    patch_index = (i_h // stride) * out_w + (i_w // stride)\n",
    "\n",
    "                    start_index = channel * kernel_height * kernel_width\n",
    "                    end_index = (channel + 1) * kernel_height * kernel_width\n",
    "                    channel_slice = slice(start_index, end_index)\n",
    "\n",
    "                    unfolded_matrix[batch, channel_slice, patch_index] = patch.flatten()\n",
    "\n",
    "    return unfolded_matrix\n",
    "\n",
    "\n",
    "########## variables ##########\n",
    "input_height = 3\n",
    "input_width = 3\n",
    "input_channels = 5\n",
    "batches = 2\n",
    "kernel_height = 3\n",
    "kernel_width = 3\n",
    "kernel_size = (3, 3)\n",
    "stride = 1\n",
    "padding = 1\n",
    "\n",
    "X = torch.randn(batches, input_channels, input_height, input_width)\n",
    "\n",
    "########## custom implementation ##########\n",
    "unfolded_tensor: torch.Tensor = custom_unfold(\n",
    "    input=X, kernel_size=(kernel_height, kernel_width), stride=stride, padding=padding\n",
    ")\n",
    "\n",
    "########## torch implementation ##########\n",
    "torch_unfold = torch.nn.Unfold(\n",
    "    kernel_size=(kernel_height, kernel_width), padding=padding, stride=stride\n",
    ")\n",
    "torch_unfolded_tensor = torch_unfold(X)\n",
    "\n",
    "########## test ##########\n",
    "assert unfolded_tensor.size() == torch_unfolded_tensor.size()"
   ]
  }
 ],
 "metadata": {
  "kernelspec": {
   "display_name": "Python 3",
   "language": "python",
   "name": "python3"
  },
  "language_info": {
   "codemirror_mode": {
    "name": "ipython",
    "version": 3
   },
   "file_extension": ".py",
   "mimetype": "text/x-python",
   "name": "python",
   "nbconvert_exporter": "python",
   "pygments_lexer": "ipython3",
   "version": "3.10.12"
  }
 },
 "nbformat": 4,
 "nbformat_minor": 2
}
